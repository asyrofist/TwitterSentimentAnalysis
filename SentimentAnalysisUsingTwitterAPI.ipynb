{
 "cells": [
  {
   "cell_type": "code",
   "execution_count": 3,
   "metadata": {},
   "outputs": [],
   "source": [
    "from textblob import TextBlob\n",
    "import tweepy\n",
    "import wikipedia"
   ]
  },
  {
   "cell_type": "code",
   "execution_count": 4,
   "metadata": {},
   "outputs": [],
   "source": [
    "consumer_key= '9N4LhWmdtUZT0sbVpgbMyqEY5'\n",
    "consumer_secret= '89HtqbHBzmaD9YQSPO6hdU7PQHoMHRSF6NvwxlTCfsY0HZZtZ6'\n",
    "\n",
    "access_token='863387980492414976-6ljbFkaBtFMQv3RO8pwAcZGlkI3HXzP'\n",
    "access_token_secret='mkxCMzl3p9Eydhenw0iTyN0kKmgnXI8WyI813khmwDSfq'\n",
    "\n",
    "auth = tweepy.OAuthHandler(consumer_key, consumer_secret)\n",
    "auth.set_access_token(access_token, access_token_secret)\n",
    "api = tweepy.API(auth)"
   ]
  },
  {
   "cell_type": "code",
   "execution_count": 5,
   "metadata": {},
   "outputs": [],
   "source": [
    "#Step 3 - Retrieve Tweets\n",
    "public_tweets = tweepy.Cursor(api.search, q=\"trump\", lang = \"en\").items(100)\n"
   ]
  },
  {
   "cell_type": "code",
   "execution_count": null,
   "metadata": {},
   "outputs": [
    {
     "name": "stdout",
     "output_type": "stream",
     "text": [
      "RT @treasonstickers: RECAP:\n",
      "\n",
      "- Hillary sent non-classified emails on a private server and Republicans lost their shit\n",
      "\n",
      "- Trump bribed a for…\n",
      "RT @JolyonMaugham: Britain-Trump also a molester of women. Not that anyone should be remotely surprised. https://t.co/IeV0JYwqhD https://t.…\n",
      "RT @paulsperry_: Man, the #DeepState hates Trump and his foreign policy. They really, really hate him. They want Trump out of power so badl…\n",
      "RT @KamalaHarris: Donald Trump isn’t loyal to this country.\n",
      "\n",
      "Donald Trump is only loyal to Donald Trump.\n",
      "RT @TLAVagabond: CIA Trump Manipulation, Israel Bombs Iraq, UN Venezuela Lies Exposed &amp; US “Less Equal” Than Mexico https://t.co/ZFtTE7i1Wg…\n",
      "RT @JuddLegum: Trump met with Wayne LaPierre and asked if the NRA would finance his impeachment defense. LaPierre said he would if Trump pr…\n",
      "RT @ProudResister: He will rage tweet. He will make up fake conspiracy theories. He will attack the media. He will blame Democrats. He will…\n",
      "RT @Slate: It wasn’t an isolated incident. https://t.co/BHfR7CDTN0\n",
      "RT @RonWyden: The same day that I released a report detailing the close relationship between the NRA and Russia, Trump met with its top exe…\n",
      "RT @patrickLSimpson: Eighty percent of my vocal Trump co-workers flipped this week.\n",
      "\n",
      "My bipartisan FB Group turned into an echo chamber.\n",
      "\n",
      "T…\n",
      "RT @WayneDupreeShow: Trump just trolled Omar in the best way possible! 😂👏\n",
      "\n",
      "https://t.co/Hn7868a9zA\n",
      "RT @Jesse_onya_m8: This is why optics are so important.\n",
      "\n",
      "The Democrats and the fake news media have created such a polarised political clim…\n",
      "RT @charliekirk11: Chuck Schumer has been in office for 38 years\n",
      "\n",
      "Nancy Pelosi has been in office for 32 years\n",
      "\n",
      "Maxine Waters has been in o…\n",
      "Fixing the headline doesn't make the content any less sexist. Interesting seeing that somehow in the homepage despi… https://t.co/ltjMIHFpci\n",
      "@JDW714 @WalkedAwa @Thumper5465 @Frank71858604 @Black_is_back5 @BaconmmBacon @JSAnonQ @leeroq3 @misscalliecat… https://t.co/P96hjZca0w\n",
      "RT @eugenegu: I think the roadmap to impeachment lies in having an independent investigator with security clearance go through the top secr…\n",
      "RT @EmeraldRobinson: U.S. Criminal Code (Updated November 2016): \"It's only a crime if Trump does it.\"\n",
      "\n",
      "U.S. Criminal Code (Updated Aug 201…\n",
      "RT @DearAuntCrabby: What's your, \"go to\" phrase to unnerve Trumpanistas?\n",
      "\n",
      "I usually use the, \"Trump didn't even win the popular vote\" or \"T…\n",
      "RT @RL9631: How do you rate President Trump's performance on trying to secure America's border and enforce America's immigration laws despi…\n",
      "RT @Fahrenthold: Great scoop by @gordondeeg: when @realdonaldtrump made a side trip to visit his Irish resort this summer, the Irish govt p…\n",
      "Geraldo wants to beat up 'rotten snitch' whistleblower for Trump https://t.co/VBMJ8ZWe4O\n",
      "RT @CNN: White House aides took remarkable steps to keep President Trump's phone calls with Saudi Crown Prince Mohammed bin Salman and Russ…\n",
      "RT @MilaceMcnair: @DearAuntCrabby Did Voight really just refer to Trump as \"the greatness of our country's glory\"?\n",
      "\n",
      "TRUMP... THE GREATNESS…\n",
      "RT @JuddLegum: Trump met with Wayne LaPierre and asked if the NRA would finance his impeachment defense. LaPierre said he would if Trump pr…\n",
      "RT @GeorgeTakei: Trump has lit the damn house on fire, but the GOP just wants to go after whoever pulled the fire alarm.\n",
      "RT @TheTrumpPage1: BREAKING NEWS: Nancy Changes Impeachment Rules. The Deep State is all-in with this effort. They know Trump cannot be bea…\n",
      "In Trump Organization Financial Documents Amid Thousands Of Playing Willy Loman In Hopes They Pay\n",
      "RT @drawandstrike: What do you think Trump was selling in his 2016 campaign? Hope or fear?\n",
      "\n",
      "Which do you think is going to get him re-elect…\n",
      "RT @striderraven1: Impeachment Blowback: Pelosi Seals Democrat Doom, Guarantees Trump Reele... https://t.co/jY45AjJYIm via @YouTube\n",
      "RT @charliekirk11: Chuck Schumer has been in office for 38 years\n",
      "\n",
      "Nancy Pelosi has been in office for 32 years\n",
      "\n",
      "Maxine Waters has been in o…\n",
      "RT @PalmerReport: Bill Barr just said something that should scare the crap out of Donald Trump  https://t.co/NW91TGWAwQ\n",
      "RT @freddyatton: #TrumpPoll\n",
      "\n",
      "ARTICLES OF IMPEACHMENT\n",
      "\n",
      "- We have the evidence.\n",
      "\n",
      "- We have the witnesses.\n",
      "\n",
      "- We have the flippers (Cohen + Gi…\n",
      "RT @Slate: A cover-up, a panicked GOP, and a suddenly decisive Democratic Party that has shifted the political discourse in a matter of day…\n",
      "RT @PalmerReport: Donald Trump has unveiled his new strategy for saving himself: he's sending Lindsey Graham and Rudy Giuliani on televisio…\n",
      "RT @JohnJHarwood: this makes no sense\n",
      "\n",
      "the WH itself released the call memo - direct evidence of Trump’s own words furnished by Trump’s own…\n",
      "RT @THR: Ex-'Today' anchor #BillyBush opens up about his three-year career break and shares how the infamous 'Access Hollywood' video with…\n",
      "RT @LaylaAlisha11: CIA veteran familiar with complaints says whistleblower case is beyond fishy!\n",
      "He says it appears to be written by Left W…\n",
      "RT @CREWcrew: Let’s not let this get lost in this crazy week of news: Trump appointed a former Monsanto staffer to head the US Fish and Wil…\n",
      "RT @brianrayguitar: Jared Kushner, Ivanka Trump had third private email account https://t.co/qHtXdEwoQA\n",
      "RT @SeanEldridge: How many Americans are sitting in prison right now for far less than the crimes Trump has committed?\n",
      "RT @thebradfordfile: Raise your hand if you agree with President Trump that Liddle’ Adam Schiff should resign from congress!\n",
      "RT @kelly2277: 🔥Putin’s top propagandist and conspiracy theorist is ⁦⁦@realDonaldTrump⁩. The Ukraine Plot, approved by Putin, involves a “f…\n",
      "RT @NevadaElJefe: Brennan Calls on Unlimited Number of Deep State Spies to Use New, Secretly Altered Whistleblower Complaint Form to 'Repor…\n",
      "RT @dbongino: If we allow the tyrannical Democrats, and their media sycophants, to destroy Trump, then they will use this despotic model ag…\n",
      "RT @CHIZMAGA: So the Democrats spent over 30 Million dollars investigating Election Meddling, yet Trump isn’t allowed to ask even one quest…\n",
      "RT @coco14391: President Trump’s campaign and the Republican National Committee (RNC) have raised a staggering $13 million in the days foll…\n",
      "RT @AmberRShamsi: Overheard my mother and Khala talking about Imran Khan, Donald Trump and Boris Johnson on the phone like they’re the Khal…\n",
      "RT @donnabrazile: Is Donald Trump a legitmate President?\n",
      "RT @dbongino: This guy weaponized his position as head of the CIA to violate the civil rights of multiple Americans associated with Donald…\n",
      "RT @RawStory: \"It has been a while since you’ve practiced law, so let me help.\" \n",
      "--  @gtconway3d\n",
      "\n",
      "Ouch.\n",
      "\n",
      "https://t.co/X8w1SyuAaO\n",
      "RT @ourbwl: current stress level: the u.s when trump got elected\n",
      "RT @PalmerReport: Donald Trump has unveiled his new strategy for saving himself: he's sending Lindsey Graham and Rudy Giuliani on televisio…\n",
      "@LaraLeaTrump Yet another brilliant argument from Trump enthusiasts\n",
      "After watching this video a second time, I must say that I am looking forward to Ms. Cupp participating in the take… https://t.co/ZuHVqBRjdZ\n",
      "RT @joncoopertweets: Fox News Poll Shows America Is 'Exhausted' And Wants Trump Gone https://t.co/1EIT81Rmc1\n",
      "RT @TeamPelosi: The current occupant of the White House used taxpayer money to shake down a foreign leader for his own political gain. \n",
      "\n",
      "Tr…\n",
      "RT @brianbeutler: This story says the State Department suddenly revived it's \"investigation\" of Hillary Clinton's emails \"in August,\" which…\n",
      "RT @Independent: People are trolling Trump with Make America 'Greta' Again hats because of course they are https://t.co/yS2jzexV2o\n",
      "RT @bjwinnerdavis: #RealityWinner\n",
      " She is the very first whistleblower under Trump. They \"nailed her to the door to make an example\" of her…\n",
      "RT @GarethPorter: I usually dislike Fareed Zakaria's commentaries, but his latest is important, because it reflects the dawning realization…\n"
     ]
    }
   ],
   "source": [
    "polarity = 0\n",
    "positive = 0\n",
    "negative = 0\n",
    "neutral = 0\n",
    "\n",
    "for tweet in public_tweets:\n",
    "    print(tweet.text)\n",
    "    analysis = TextBlob(tweet.text)\n",
    "    polarity += analysis.sentiment.polarity\n",
    "    if (analysis.sentiment.polarity == 0):\n",
    "        neutral += 1\n",
    "    elif (analysis.sentiment.polarity > 0.3 and analysis.sentiment.polarity <= 0.6):\n",
    "        positive += 1\n",
    "    elif (analysis.sentiment.polarity > -0.6 and analysis.sentiment.polarity <= -0.3):\n",
    "        negative += 1"
   ]
  },
  {
   "cell_type": "code",
   "execution_count": 1,
   "metadata": {},
   "outputs": [
    {
     "ename": "NameError",
     "evalue": "name 'positive' is not defined",
     "output_type": "error",
     "traceback": [
      "\u001b[0;31m---------------------------------------------------------------------------\u001b[0m",
      "\u001b[0;31mNameError\u001b[0m                                 Traceback (most recent call last)",
      "\u001b[0;32m<ipython-input-1-bfbc87265881>\u001b[0m in \u001b[0;36m<module>\u001b[0;34m\u001b[0m\n\u001b[0;32m----> 1\u001b[0;31m \u001b[0mpositive\u001b[0m \u001b[0;34m=\u001b[0m \u001b[0;36m100\u001b[0m \u001b[0;34m*\u001b[0m \u001b[0mfloat\u001b[0m\u001b[0;34m(\u001b[0m\u001b[0mpositive\u001b[0m\u001b[0;34m)\u001b[0m \u001b[0;34m/\u001b[0m \u001b[0mfloat\u001b[0m\u001b[0;34m(\u001b[0m\u001b[0;36m100\u001b[0m\u001b[0;34m)\u001b[0m\u001b[0;34m\u001b[0m\u001b[0;34m\u001b[0m\u001b[0m\n\u001b[0m\u001b[1;32m      2\u001b[0m \u001b[0mpolarity\u001b[0m \u001b[0;34m=\u001b[0m \u001b[0mpolarity\u001b[0m \u001b[0;34m/\u001b[0m \u001b[0mnumber_of_item\u001b[0m\u001b[0;34m\u001b[0m\u001b[0;34m\u001b[0m\u001b[0m\n\u001b[1;32m      3\u001b[0m \u001b[0mnegative\u001b[0m \u001b[0;34m=\u001b[0m \u001b[0;36m100\u001b[0m \u001b[0;34m*\u001b[0m \u001b[0mfloat\u001b[0m\u001b[0;34m(\u001b[0m\u001b[0mnegative\u001b[0m\u001b[0;34m)\u001b[0m \u001b[0;34m/\u001b[0m \u001b[0mfloat\u001b[0m\u001b[0;34m(\u001b[0m\u001b[0;36m100\u001b[0m\u001b[0;34m)\u001b[0m\u001b[0;34m\u001b[0m\u001b[0;34m\u001b[0m\u001b[0m\n\u001b[1;32m      4\u001b[0m \u001b[0mneutral\u001b[0m \u001b[0;34m=\u001b[0m \u001b[0;36m100\u001b[0m \u001b[0;34m*\u001b[0m \u001b[0mfloat\u001b[0m\u001b[0;34m(\u001b[0m\u001b[0mneutral\u001b[0m\u001b[0;34m)\u001b[0m \u001b[0;34m/\u001b[0m \u001b[0mfloat\u001b[0m\u001b[0;34m(\u001b[0m\u001b[0;36m100\u001b[0m\u001b[0;34m)\u001b[0m\u001b[0;34m\u001b[0m\u001b[0;34m\u001b[0m\u001b[0m\n\u001b[1;32m      5\u001b[0m \u001b[0;34m\u001b[0m\u001b[0m\n",
      "\u001b[0;31mNameError\u001b[0m: name 'positive' is not defined"
     ]
    }
   ],
   "source": [
    "positive = 100 * float(positive) / float(100)\n",
    "polarity = polarity / number_of_item\n",
    "negative = 100 * float(negative) / float(100)\n",
    "neutral = 100 * float(neutral) / float(100)\n",
    "\n",
    "print(str(positive) + \"% people thought it was positive\")\n",
    "print(str(negative) + \"% people thought it was negative\")\n",
    "print(str(neutral) + \"% people thought it was neutral\")"
   ]
  },
  {
   "cell_type": "code",
   "execution_count": 2,
   "metadata": {},
   "outputs": [
    {
     "name": "stdout",
     "output_type": "stream",
     "text": [
      "Donald John Trump (born June 14, 1946) is the 45th and current president of the United States. Before entering politics, he was a businessman and television personality.\n",
      "Trump was born and raised in the New York City borough of Queens, and received a B.S. degree in economics from the Wharton School at the University of Pennsylvania. He took charge of his family's real-estate business in 1971, renamed it The Trump Organization, and expanded it from Queens and Brooklyn into Manhattan. The company built or renovated skyscrapers, hotels, casinos, and golf courses. Trump later started various side ventures, mostly by licensing his name. Trump is credited as co-author of  several books, including The Art of the Deal. He owned the Miss Universe and Miss USA beauty pageants from 1996 to 2015, and produced and hosted The Apprentice, a reality television show, from 2003 to 2015. Forbes estimates his net worth to be $3.1 billion.\n",
      "Trump entered the 2016 presidential race as a Republican and defeated 16 other candidates in the primaries. His political positions have been described as populist, protectionist, and nationalist. He was elected in a surprise victory over Democratic nominee Hillary Clinton, although he lost the popular vote. He became the oldest first-term U.S. president, and the first one without prior military or government service. His election and policies have sparked numerous protests. Trump has made many false or misleading statements during his campaign and presidency. The statements have been documented by fact-checkers, and the media have widely described the phenomenon as unprecedented in American politics. Many of his comments and actions have also been characterized as racially charged or racist.\n",
      "During his presidency, Trump ordered a travel ban on citizens from several Muslim-majority countries, citing security concerns; after legal challenges, the Supreme Court upheld the policy's third revision. He enacted a tax-cut package for individuals and businesses, which also rescinded the individual health insurance mandate and allowed oil drilling in the Arctic Refuge. He appointed Neil Gorsuch and Brett Kavanaugh to the Supreme Court. In foreign policy, Trump has pursued an America First agenda, withdrawing the U.S. from the Trans-Pacific Partnership trade negotiations, the Paris Agreement on climate change, and the Iran nuclear deal. He recognized Jerusalem as the capital of Israel, imposed import tariffs triggering a trade war with China, and started negotiations with North Korea towards their denuclearization. \n",
      "In September 2019, following a whistleblower complaint alleging a widespread abuse of power and a cover-up by Trump, a formal impeachment inquiry was initiated in the U.S. House of Representatives.\n"
     ]
    }
   ],
   "source": [
    "print(wikipedia.summary('trump'))"
   ]
  },
  {
   "cell_type": "code",
   "execution_count": null,
   "metadata": {},
   "outputs": [],
   "source": []
  }
 ],
 "metadata": {
  "kernelspec": {
   "display_name": "Python 3",
   "language": "python",
   "name": "python3"
  },
  "language_info": {
   "codemirror_mode": {
    "name": "ipython",
    "version": 3
   },
   "file_extension": ".py",
   "mimetype": "text/x-python",
   "name": "python",
   "nbconvert_exporter": "python",
   "pygments_lexer": "ipython3",
   "version": "3.7.1"
  }
 },
 "nbformat": 4,
 "nbformat_minor": 2
}
